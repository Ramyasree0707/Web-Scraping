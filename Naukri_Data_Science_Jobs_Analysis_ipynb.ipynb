{
  "cells": [
    {
      "cell_type": "markdown",
      "metadata": {
        "id": "view-in-github",
        "colab_type": "text"
      },
      "source": [
        "<a href=\"https://colab.research.google.com/github/Ramyasree0707/Web-Scraping/blob/main/Naukri_Data_Science_Jobs_Analysis_ipynb.ipynb\" target=\"_parent\"><img src=\"https://colab.research.google.com/assets/colab-badge.svg\" alt=\"Open In Colab\"/></a>"
      ]
    },
    {
      "cell_type": "markdown",
      "id": "1ca70dc9",
      "metadata": {
        "id": "1ca70dc9"
      },
      "source": [
        "# Problem Statement: Navigating the Data Science Job Landscape\n",
        "\n",
        "🚀 Unleash your creativity in crafting a solution that taps into the heartbeat of the data science job market! Envision an\n",
        "ingenious project that seamlessly wields cutting-edge web scraping techniques and illuminating data analysis.\n",
        "\n",
        "🔍 Your mission? To engineer a tool that effortlessly gathers job listings from a multitude of online sources, extracting\n",
        "pivotal nuggets such as job descriptions, qualifications, locations, and salaries.\n",
        "\n",
        "🧩 However, the true puzzle lies in deciphering this trove of data. Can your solution discern patterns that spotlight the most\n",
        "coveted skills? Are there threads connecting job types to compensation packages? How might it predict shifts in industry demand?\n",
        "\n",
        "🎯 The core objectives of this challenge are as follows:\n",
        "\n",
        "1. Web Scraping Mastery: Forge an adaptable and potent web scraping mechanism. Your creation should adeptly harvest data         science job postings from a diverse array of online platforms. Be ready to navigate evolving website structures and process     hefty data loads.\n",
        "\n",
        "2. Data Symphony: Skillfully distill vital insights from the harvested job listings. Extract and cleanse critical information\n",
        "   like job titles, company names, descriptions, qualifications, salaries, locations, and deadlines. Think data refinement and\n",
        "   organization.\n",
        "\n",
        "3. Market Wizardry: Conjure up analytical tools that conjure meaningful revelations from the gathered data. Dive into the abyss\n",
        "   of job demand trends, geographic distribution, salary variations tied to experience and location, favored qualifications,     and emerging skill demands.\n",
        "\n",
        "4. Visual Magic: Weave a tapestry of visualization magic. Design captivating charts, graphs, and visual representations that\n",
        "   paint a crystal-clear picture of the analyzed data. Make these visuals the compass that guides users through job market\n",
        "   intricacies.\n",
        "\n",
        "🌐 While the web scraping universe is yours to explore, consider these platforms as potential stomping grounds:\n",
        "\n",
        "LinkedIn Jobs\n",
        "Indeed\n",
        "Naukri\n",
        "Glassdoor\n",
        "AngelList\n",
        "🎈 Your solution should not only decode the data science job realm but also empower professionals, job seekers, and recruiters\n",
        "to harness the dynamic shifts of the industry. The path is open, the challenge beckons – are you ready to embark on this\n",
        "exciting journey?"
      ]
    },
    {
      "cell_type": "code",
      "execution_count": null,
      "id": "233429f5",
      "metadata": {
        "id": "233429f5"
      },
      "outputs": [],
      "source": [
        "#importing libraries\n",
        "from selenium import webdriver\n",
        "from bs4 import BeautifulSoup\n",
        "import requests\n",
        "import time\n",
        "import pandas as pd\n",
        "import numpy as np\n",
        "import matplotlib.pyplot as plt\n",
        "import seaborn as sns"
      ]
    },
    {
      "cell_type": "code",
      "execution_count": null,
      "id": "fd314d86",
      "metadata": {
        "id": "fd314d86"
      },
      "outputs": [],
      "source": [
        "driver = webdriver.Chrome()\n",
        "url = \"https://www.naukri.com/data-science-jobs-in-india?k=data%20science&l=india\"\n",
        "driver.get(url)\n",
        "time.sleep(3)\n",
        "resp = driver.page_source\n",
        "soup = BeautifulSoup(resp,\"html.parser\")\n",
        "page_url = soup.find('div',{'class': 'styles_pages__v1rAK'})\n",
        "a_tag = page_url.find_all('a')\n",
        "links = []\n",
        "jobs_list = []\n",
        "for a in a_tag:\n",
        "    next_url = a['href']\n",
        "    next_url = \"https://www.naukri.com\"+next_url\n",
        "    links.append(next_url)\n",
        "def scrape_job_site(link):\n",
        "  driver.get(link)\n",
        "  time.sleep(3)\n",
        "  resp = driver.page_source\n",
        "  soup = BeautifulSoup(resp,\"html.parser\")\n",
        "  jobs = soup.find_all('div', {'class' : 'srp-jobtuple-wrapper'})\n",
        "  for job in jobs:\n",
        "      job_dict = {}\n",
        "      title = job.find('a',{'class': 'title'})\n",
        "      company = job.find('a',{'class': 'comp-name mw-25'})\n",
        "      rating = job.find('a',{'class': 'rating'})\n",
        "      experience = job.find('span',{'class': 'expwdth'})\n",
        "      salary = job.find('span',{'class': ''})\n",
        "      location = job.find('span',{'class': 'locWdth'})\n",
        "      description = job.find('span',{'class': 'job-desc ni-job-tuple-icon ni-job-tuple-icon-srp-description'})\n",
        "      skills = job.find('ul',{'class': 'tags-gt'})\n",
        "      job_dict[\"Title\"] = title.text.strip() if title is not None else ''\n",
        "      job_dict[\"Company\"] = company.text.strip() if company is not None else ''\n",
        "      job_dict['Location'] = location.text.strip().split(',')[0] if location is not None else ''\n",
        "      job_dict[\"Rating\"] = rating.text.strip() if rating is not None else ''\n",
        "      job_dict[\"Experience\"] = experience.text.strip() if experience is not None else ''\n",
        "      job_dict[\"Salary\"] = salary.text.strip() if salary is not None else ''\n",
        "      job_dict[\"Description\"] = description.text.strip() if description is not None else ''\n",
        "      job_dict[\"Skills\"] = ', '.join([skill.text.strip() for skill in skills.find_all('li')]) if skills is not None else ''\n",
        "      jobs_list.append(job_dict)\n",
        "\n",
        "for link in links:\n",
        "    scrape_job_site(link)\n",
        "driver.close()"
      ]
    },
    {
      "cell_type": "code",
      "execution_count": null,
      "id": "ba25f1d6",
      "metadata": {
        "id": "ba25f1d6",
        "outputId": "a47ae267-aaa3-417b-fdb4-43b6aa70378f"
      },
      "outputs": [
        {
          "data": {
            "text/plain": [
              "200"
            ]
          },
          "execution_count": 134,
          "metadata": {},
          "output_type": "execute_result"
        }
      ],
      "source": [
        "len(jobs_list)"
      ]
    },
    {
      "cell_type": "code",
      "execution_count": null,
      "id": "0f3948d8",
      "metadata": {
        "id": "0f3948d8"
      },
      "outputs": [],
      "source": [
        "# Creating a dataframe of jobs_list\n",
        "dsjobs_df = pd.DataFrame(jobs_list)"
      ]
    },
    {
      "cell_type": "code",
      "execution_count": null,
      "id": "3d267b39",
      "metadata": {
        "id": "3d267b39",
        "outputId": "ab9295c8-22e3-477b-ff2a-368284fe4e7b"
      },
      "outputs": [
        {
          "data": {
            "text/html": [
              "<div>\n",
              "<style scoped>\n",
              "    .dataframe tbody tr th:only-of-type {\n",
              "        vertical-align: middle;\n",
              "    }\n",
              "\n",
              "    .dataframe tbody tr th {\n",
              "        vertical-align: top;\n",
              "    }\n",
              "\n",
              "    .dataframe thead th {\n",
              "        text-align: right;\n",
              "    }\n",
              "</style>\n",
              "<table border=\"1\" class=\"dataframe\">\n",
              "  <thead>\n",
              "    <tr style=\"text-align: right;\">\n",
              "      <th></th>\n",
              "      <th>Title</th>\n",
              "      <th>Company</th>\n",
              "      <th>Location</th>\n",
              "      <th>Rating</th>\n",
              "      <th>Experience</th>\n",
              "      <th>Salary</th>\n",
              "      <th>Description</th>\n",
              "      <th>Skills</th>\n",
              "    </tr>\n",
              "  </thead>\n",
              "  <tbody>\n",
              "    <tr>\n",
              "      <th>0</th>\n",
              "      <td>Head - Data Science &amp; Analytics</td>\n",
              "      <td>Exide</td>\n",
              "      <td>Kolkata</td>\n",
              "      <td>3.5</td>\n",
              "      <td>7-10 Yrs</td>\n",
              "      <td>Not disclosed</td>\n",
              "      <td>End-to-End Data Warehousing experience on SAP ...</td>\n",
              "      <td>Data Science, Bi Tools, Ms Azure, Data Analyti...</td>\n",
              "    </tr>\n",
              "    <tr>\n",
              "      <th>1</th>\n",
              "      <td>Data Science Engineer</td>\n",
              "      <td>Ninestars Information Technologies</td>\n",
              "      <td>Bangalore/Bengaluru</td>\n",
              "      <td>3.3</td>\n",
              "      <td>0-1 Yrs</td>\n",
              "      <td>3-8 Lacs PA</td>\n",
              "      <td>Must have: . Hands-on coding expertise / Solid...</td>\n",
              "      <td>Algorithms, Data Structures, Artificial Intell...</td>\n",
              "    </tr>\n",
              "    <tr>\n",
              "      <th>2</th>\n",
              "      <td>Python Developer - Data Science - Tiger analytics</td>\n",
              "      <td>Tiger Analytics</td>\n",
              "      <td>Hyderabad/Secunderabad</td>\n",
              "      <td>3.5</td>\n",
              "      <td>2-7 Yrs</td>\n",
              "      <td>Not disclosed</td>\n",
              "      <td>Should be able to understand, test and debug e...</td>\n",
              "      <td>Data Science, Python, Azure, Pandas, Aws, Nump...</td>\n",
              "    </tr>\n",
              "    <tr>\n",
              "      <th>3</th>\n",
              "      <td>Assistant Manager, Data Science</td>\n",
              "      <td>Johnson and Johnson Kenvue</td>\n",
              "      <td>Bangalore/Bengaluru</td>\n",
              "      <td>4.0</td>\n",
              "      <td>7-9 Yrs</td>\n",
              "      <td>Not disclosed</td>\n",
              "      <td>Bachelor of Science or Bachelor of Engineering...</td>\n",
              "      <td>Supply chain, Statistical programming, Data an...</td>\n",
              "    </tr>\n",
              "    <tr>\n",
              "      <th>4</th>\n",
              "      <td>Assistant Manager, Data Science</td>\n",
              "      <td>Johnson and Johnson Kenvue</td>\n",
              "      <td>Bangalore/Bengaluru</td>\n",
              "      <td>4.0</td>\n",
              "      <td>7-9 Yrs</td>\n",
              "      <td>Not disclosed</td>\n",
              "      <td>Bachelor of Science or Bachelor of Engineering...</td>\n",
              "      <td>Supply chain, Data analysis, Data management, ...</td>\n",
              "    </tr>\n",
              "  </tbody>\n",
              "</table>\n",
              "</div>"
            ],
            "text/plain": [
              "                                               Title  \\\n",
              "0                    Head - Data Science & Analytics   \n",
              "1                              Data Science Engineer   \n",
              "2  Python Developer - Data Science - Tiger analytics   \n",
              "3                    Assistant Manager, Data Science   \n",
              "4                    Assistant Manager, Data Science   \n",
              "\n",
              "                              Company                Location Rating  \\\n",
              "0                               Exide                 Kolkata    3.5   \n",
              "1  Ninestars Information Technologies     Bangalore/Bengaluru    3.3   \n",
              "2                     Tiger Analytics  Hyderabad/Secunderabad    3.5   \n",
              "3          Johnson and Johnson Kenvue     Bangalore/Bengaluru    4.0   \n",
              "4          Johnson and Johnson Kenvue     Bangalore/Bengaluru    4.0   \n",
              "\n",
              "  Experience         Salary  \\\n",
              "0   7-10 Yrs  Not disclosed   \n",
              "1    0-1 Yrs    3-8 Lacs PA   \n",
              "2    2-7 Yrs  Not disclosed   \n",
              "3    7-9 Yrs  Not disclosed   \n",
              "4    7-9 Yrs  Not disclosed   \n",
              "\n",
              "                                         Description  \\\n",
              "0  End-to-End Data Warehousing experience on SAP ...   \n",
              "1  Must have: . Hands-on coding expertise / Solid...   \n",
              "2  Should be able to understand, test and debug e...   \n",
              "3  Bachelor of Science or Bachelor of Engineering...   \n",
              "4  Bachelor of Science or Bachelor of Engineering...   \n",
              "\n",
              "                                              Skills  \n",
              "0  Data Science, Bi Tools, Ms Azure, Data Analyti...  \n",
              "1  Algorithms, Data Structures, Artificial Intell...  \n",
              "2  Data Science, Python, Azure, Pandas, Aws, Nump...  \n",
              "3  Supply chain, Statistical programming, Data an...  \n",
              "4  Supply chain, Data analysis, Data management, ...  "
            ]
          },
          "execution_count": 136,
          "metadata": {},
          "output_type": "execute_result"
        }
      ],
      "source": [
        "dsjobs_df.head()"
      ]
    },
    {
      "cell_type": "code",
      "execution_count": null,
      "id": "cde708c2",
      "metadata": {
        "id": "cde708c2",
        "outputId": "c0d44583-9386-4512-8296-9ef977696c63"
      },
      "outputs": [
        {
          "data": {
            "text/plain": [
              "(200, 8)"
            ]
          },
          "execution_count": 137,
          "metadata": {},
          "output_type": "execute_result"
        }
      ],
      "source": [
        "# dataset rows and columns count\n",
        "dsjobs_df.shape"
      ]
    },
    {
      "cell_type": "code",
      "execution_count": null,
      "id": "d82bae73",
      "metadata": {
        "id": "d82bae73",
        "outputId": "022bc4f8-acd0-4337-c7bb-54c620d0a069"
      },
      "outputs": [
        {
          "name": "stdout",
          "output_type": "stream",
          "text": [
            "<class 'pandas.core.frame.DataFrame'>\n",
            "RangeIndex: 200 entries, 0 to 199\n",
            "Data columns (total 8 columns):\n",
            " #   Column       Non-Null Count  Dtype \n",
            "---  ------       --------------  ----- \n",
            " 0   Title        200 non-null    object\n",
            " 1   Company      200 non-null    object\n",
            " 2   Location     200 non-null    object\n",
            " 3   Rating       200 non-null    object\n",
            " 4   Experience   200 non-null    object\n",
            " 5   Salary       200 non-null    object\n",
            " 6   Description  200 non-null    object\n",
            " 7   Skills       200 non-null    object\n",
            "dtypes: object(8)\n",
            "memory usage: 12.6+ KB\n"
          ]
        }
      ],
      "source": [
        "dsjobs_df.info()"
      ]
    },
    {
      "cell_type": "code",
      "execution_count": null,
      "id": "a3381a6d",
      "metadata": {
        "id": "a3381a6d",
        "outputId": "a5112b0f-7b19-44c4-c096-8758aa7ee087"
      },
      "outputs": [
        {
          "data": {
            "text/plain": [
              "Title          0\n",
              "Company        0\n",
              "Location       0\n",
              "Rating         0\n",
              "Experience     0\n",
              "Salary         0\n",
              "Description    0\n",
              "Skills         0\n",
              "dtype: int64"
            ]
          },
          "execution_count": 139,
          "metadata": {},
          "output_type": "execute_result"
        }
      ],
      "source": [
        "dsjobs_df.isnull().sum()"
      ]
    },
    {
      "cell_type": "code",
      "execution_count": null,
      "id": "8e737a6a",
      "metadata": {
        "id": "8e737a6a",
        "outputId": "4fbcff30-e2f0-44d4-d912-1fa0f14f4394"
      },
      "outputs": [
        {
          "data": {
            "text/plain": [
              "0"
            ]
          },
          "execution_count": 140,
          "metadata": {},
          "output_type": "execute_result"
        }
      ],
      "source": [
        "#Checking for duplicates\n",
        "len(dsjobs_df[dsjobs_df.duplicated()])"
      ]
    },
    {
      "cell_type": "markdown",
      "id": "db065786",
      "metadata": {
        "id": "db065786"
      },
      "source": [
        "# Data Wrangling"
      ]
    },
    {
      "cell_type": "code",
      "execution_count": null,
      "id": "4382c716",
      "metadata": {
        "id": "4382c716"
      },
      "outputs": [],
      "source": [
        "#Converting rating column to numeric type\n",
        "dsjobs_df['Rating'] = pd.to_numeric(dsjobs_df['Rating'])"
      ]
    },
    {
      "cell_type": "code",
      "execution_count": null,
      "id": "e5bd0336",
      "metadata": {
        "id": "e5bd0336",
        "outputId": "1ca7b73c-574d-4bf7-ed75-d15563b8c885"
      },
      "outputs": [
        {
          "data": {
            "text/plain": [
              "Title\n",
              "Data Science Manager                                                      11\n",
              "Data Science Professional                                                  8\n",
              "Data Science Engineer                                                      7\n",
              "Data Science Analyst                                                       6\n",
              "Data Science Trainer                                                       6\n",
              "                                                                          ..\n",
              "AI ML Developer Data Science - Python\\tJob Opportunity with Hexaware!!     1\n",
              "Data Science and Analytics Manager                                         1\n",
              "Senior Analyst Data Science                                                1\n",
              "Data Analyst - Equity Data Science                                         1\n",
              "Digital Marketing & Data Science Analyst with leading MNC                  1\n",
              "Name: count, Length: 135, dtype: int64"
            ]
          },
          "execution_count": 142,
          "metadata": {},
          "output_type": "execute_result"
        }
      ],
      "source": [
        "dsjobs_df['Title'].value_counts()"
      ]
    },
    {
      "cell_type": "code",
      "execution_count": null,
      "id": "c4fa0198",
      "metadata": {
        "id": "c4fa0198",
        "outputId": "8212fa64-9225-4d17-df04-858ef3f1f2ac"
      },
      "outputs": [
        {
          "data": {
            "text/plain": [
              "Title\n",
              "Data Science Manager                  11\n",
              "Data Science Professional              8\n",
              "Data Science Engineer                  7\n",
              "Data Science Analyst                   6\n",
              "Data Science Trainer                   6\n",
              "Data Scientist                         5\n",
              "Senior Data Scientist                  5\n",
              "Data Science Lead                      5\n",
              "Data Science Intern                    4\n",
              "Senior Data Analyst                    3\n",
              "Manager - Data Science - Analytics     3\n",
              "Assistant Manager, Data Science        3\n",
              "Data Analyst                           3\n",
              "Name: count, dtype: int64"
            ]
          },
          "execution_count": 148,
          "metadata": {},
          "output_type": "execute_result"
        }
      ],
      "source": [
        "top_jobs = dsjobs_df['Title'].value_counts().head(13)\n",
        "top_jobs"
      ]
    },
    {
      "cell_type": "code",
      "execution_count": null,
      "id": "c00223e4",
      "metadata": {
        "id": "c00223e4"
      },
      "outputs": [],
      "source": [
        "Top_jobs = list(top_jobs.index)"
      ]
    },
    {
      "cell_type": "code",
      "execution_count": null,
      "id": "34868961",
      "metadata": {
        "id": "34868961"
      },
      "outputs": [],
      "source": [
        "Top_jobs_info = dsjobs_df[(dsjobs_df['Title'].isin(Top_jobs)) & (dsjobs_df['Salary']!='Not disclosed')]"
      ]
    },
    {
      "cell_type": "code",
      "execution_count": null,
      "id": "ed555b59",
      "metadata": {
        "id": "ed555b59",
        "outputId": "954f104d-f6c0-49a9-f999-fd1abede38f4"
      },
      "outputs": [
        {
          "data": {
            "text/html": [
              "<div>\n",
              "<style scoped>\n",
              "    .dataframe tbody tr th:only-of-type {\n",
              "        vertical-align: middle;\n",
              "    }\n",
              "\n",
              "    .dataframe tbody tr th {\n",
              "        vertical-align: top;\n",
              "    }\n",
              "\n",
              "    .dataframe thead th {\n",
              "        text-align: right;\n",
              "    }\n",
              "</style>\n",
              "<table border=\"1\" class=\"dataframe\">\n",
              "  <thead>\n",
              "    <tr style=\"text-align: right;\">\n",
              "      <th></th>\n",
              "      <th>Title</th>\n",
              "      <th>Experience</th>\n",
              "      <th>Salary</th>\n",
              "      <th>Skills</th>\n",
              "    </tr>\n",
              "  </thead>\n",
              "  <tbody>\n",
              "    <tr>\n",
              "      <th>1</th>\n",
              "      <td>Data Science Engineer</td>\n",
              "      <td>0-1 Yrs</td>\n",
              "      <td>3-8 Lacs PA</td>\n",
              "      <td>Algorithms, Data Structures, Artificial Intell...</td>\n",
              "    </tr>\n",
              "    <tr>\n",
              "      <th>54</th>\n",
              "      <td>Data Science Lead</td>\n",
              "      <td>8-13 Yrs</td>\n",
              "      <td>25-35 Lacs PA</td>\n",
              "      <td>Natural Language Processing, Data Science, Tim...</td>\n",
              "    </tr>\n",
              "    <tr>\n",
              "      <th>60</th>\n",
              "      <td>Data Science Trainer</td>\n",
              "      <td></td>\n",
              "      <td>4.75-9.75 Lacs PA</td>\n",
              "      <td>Data Science, Matplotlib, Data Engineering, Ar...</td>\n",
              "    </tr>\n",
              "    <tr>\n",
              "      <th>75</th>\n",
              "      <td>Data Science Analyst</td>\n",
              "      <td>4-9 Yrs</td>\n",
              "      <td>20-25 Lacs PA</td>\n",
              "      <td>python, Data Science, Predictive Modeling, Sof...</td>\n",
              "    </tr>\n",
              "    <tr>\n",
              "      <th>76</th>\n",
              "      <td>Data Science Intern</td>\n",
              "      <td></td>\n",
              "      <td>No fixed duration</td>\n",
              "      <td></td>\n",
              "    </tr>\n",
              "    <tr>\n",
              "      <th>108</th>\n",
              "      <td>Data Science Intern</td>\n",
              "      <td></td>\n",
              "      <td>No fixed duration</td>\n",
              "      <td></td>\n",
              "    </tr>\n",
              "    <tr>\n",
              "      <th>154</th>\n",
              "      <td>Data Science Intern</td>\n",
              "      <td></td>\n",
              "      <td>2 months duration</td>\n",
              "      <td></td>\n",
              "    </tr>\n",
              "    <tr>\n",
              "      <th>167</th>\n",
              "      <td>Data Scientist</td>\n",
              "      <td>2-5 Yrs</td>\n",
              "      <td>6.5-10 Lacs PA</td>\n",
              "      <td>Data Analytics, Data Science, Predictive Analy...</td>\n",
              "    </tr>\n",
              "    <tr>\n",
              "      <th>173</th>\n",
              "      <td>Data Science Trainer</td>\n",
              "      <td>3-4 Yrs</td>\n",
              "      <td>3.75-6 Lacs PA</td>\n",
              "      <td>Machine Learning, Deep Learning, SQL, R, Pytho...</td>\n",
              "    </tr>\n",
              "    <tr>\n",
              "      <th>174</th>\n",
              "      <td>Data Scientist</td>\n",
              "      <td>2-4 Yrs</td>\n",
              "      <td>5-9.5 Lacs PA</td>\n",
              "      <td>Data Science, python, Data Analytics, Machine ...</td>\n",
              "    </tr>\n",
              "    <tr>\n",
              "      <th>178</th>\n",
              "      <td>Data Scientist</td>\n",
              "      <td>4-9 Yrs</td>\n",
              "      <td>12-22 Lacs PA</td>\n",
              "      <td>Data Science, Machine Learning, Python, Scienc...</td>\n",
              "    </tr>\n",
              "    <tr>\n",
              "      <th>182</th>\n",
              "      <td>Senior Data Analyst</td>\n",
              "      <td>5-8 Yrs</td>\n",
              "      <td>15-25 Lacs PA</td>\n",
              "      <td>Tableau, ETL Tool, SQL, data analytics, Shell ...</td>\n",
              "    </tr>\n",
              "    <tr>\n",
              "      <th>194</th>\n",
              "      <td>Data Scientist</td>\n",
              "      <td>2-4 Yrs</td>\n",
              "      <td>5.5-10 Lacs PA</td>\n",
              "      <td>Data Analytics, Data Science, Predictive Analy...</td>\n",
              "    </tr>\n",
              "    <tr>\n",
              "      <th>199</th>\n",
              "      <td>Senior Data Scientist</td>\n",
              "      <td>2-4 Yrs</td>\n",
              "      <td>10-20 Lacs PA</td>\n",
              "      <td>Big Data Technologies, Machine Learning, Pytho...</td>\n",
              "    </tr>\n",
              "  </tbody>\n",
              "</table>\n",
              "</div>"
            ],
            "text/plain": [
              "                     Title Experience             Salary  \\\n",
              "1    Data Science Engineer    0-1 Yrs        3-8 Lacs PA   \n",
              "54       Data Science Lead   8-13 Yrs      25-35 Lacs PA   \n",
              "60    Data Science Trainer             4.75-9.75 Lacs PA   \n",
              "75    Data Science Analyst    4-9 Yrs      20-25 Lacs PA   \n",
              "76     Data Science Intern             No fixed duration   \n",
              "108    Data Science Intern             No fixed duration   \n",
              "154    Data Science Intern             2 months duration   \n",
              "167         Data Scientist    2-5 Yrs     6.5-10 Lacs PA   \n",
              "173   Data Science Trainer    3-4 Yrs     3.75-6 Lacs PA   \n",
              "174         Data Scientist    2-4 Yrs      5-9.5 Lacs PA   \n",
              "178         Data Scientist    4-9 Yrs      12-22 Lacs PA   \n",
              "182    Senior Data Analyst    5-8 Yrs      15-25 Lacs PA   \n",
              "194         Data Scientist    2-4 Yrs     5.5-10 Lacs PA   \n",
              "199  Senior Data Scientist    2-4 Yrs      10-20 Lacs PA   \n",
              "\n",
              "                                                Skills  \n",
              "1    Algorithms, Data Structures, Artificial Intell...  \n",
              "54   Natural Language Processing, Data Science, Tim...  \n",
              "60   Data Science, Matplotlib, Data Engineering, Ar...  \n",
              "75   python, Data Science, Predictive Modeling, Sof...  \n",
              "76                                                      \n",
              "108                                                     \n",
              "154                                                     \n",
              "167  Data Analytics, Data Science, Predictive Analy...  \n",
              "173  Machine Learning, Deep Learning, SQL, R, Pytho...  \n",
              "174  Data Science, python, Data Analytics, Machine ...  \n",
              "178  Data Science, Machine Learning, Python, Scienc...  \n",
              "182  Tableau, ETL Tool, SQL, data analytics, Shell ...  \n",
              "194  Data Analytics, Data Science, Predictive Analy...  \n",
              "199  Big Data Technologies, Machine Learning, Pytho...  "
            ]
          },
          "execution_count": 151,
          "metadata": {},
          "output_type": "execute_result"
        }
      ],
      "source": [
        "Top_jobs_info[['Title','Experience','Salary','Skills']]"
      ]
    },
    {
      "cell_type": "code",
      "execution_count": null,
      "id": "8c9b7c01",
      "metadata": {
        "id": "8c9b7c01"
      },
      "outputs": [],
      "source": [
        "# function to convert experience to numeric\n",
        "def convert_experience(experience):\n",
        "    if experience:\n",
        "        experience_values = [int(value) for value in experience.replace('Yrs','').split('-')]\n",
        "        return sum(experience_values) / len(experience_values)\n",
        "    else:\n",
        "        return None\n"
      ]
    },
    {
      "cell_type": "code",
      "execution_count": null,
      "id": "3fc9772b",
      "metadata": {
        "id": "3fc9772b"
      },
      "outputs": [],
      "source": [
        "dsjobs_df['Experience'] = dsjobs_df['Experience'].apply(convert_experience)"
      ]
    },
    {
      "cell_type": "code",
      "execution_count": null,
      "id": "16cf117d",
      "metadata": {
        "id": "16cf117d"
      },
      "outputs": [],
      "source": [
        "# function to convert salary to numeric\n",
        "def convert_salary(salary):\n",
        "    if salary:\n",
        "        salary_values = [float(value) for value in salary.replace('Lacs PA', '').split('-')]\n",
        "        return sum(salary_values) / len(salary_values)\n",
        "    else:\n",
        "        return None"
      ]
    },
    {
      "cell_type": "code",
      "execution_count": null,
      "id": "23a7e200",
      "metadata": {
        "id": "23a7e200"
      },
      "outputs": [],
      "source": [
        "# repacing not disclosed salary to 0\n",
        "dsjobs_df['Salary'].replace({'Not disclosed':0.0},inplace=True)"
      ]
    },
    {
      "cell_type": "code",
      "execution_count": null,
      "id": "efa4269d",
      "metadata": {
        "id": "efa4269d",
        "outputId": "0c5eb8d1-63b3-4a02-94df-7e974fcc4aa9"
      },
      "outputs": [
        {
          "data": {
            "text/html": [
              "<div>\n",
              "<style scoped>\n",
              "    .dataframe tbody tr th:only-of-type {\n",
              "        vertical-align: middle;\n",
              "    }\n",
              "\n",
              "    .dataframe tbody tr th {\n",
              "        vertical-align: top;\n",
              "    }\n",
              "\n",
              "    .dataframe thead th {\n",
              "        text-align: right;\n",
              "    }\n",
              "</style>\n",
              "<table border=\"1\" class=\"dataframe\">\n",
              "  <thead>\n",
              "    <tr style=\"text-align: right;\">\n",
              "      <th></th>\n",
              "      <th>Title</th>\n",
              "      <th>Company</th>\n",
              "      <th>Location</th>\n",
              "      <th>Rating</th>\n",
              "      <th>Experience</th>\n",
              "      <th>Salary</th>\n",
              "      <th>Description</th>\n",
              "      <th>Skills</th>\n",
              "    </tr>\n",
              "  </thead>\n",
              "  <tbody>\n",
              "    <tr>\n",
              "      <th>52</th>\n",
              "      <td>Intern - Data Science</td>\n",
              "      <td></td>\n",
              "      <td>Thane</td>\n",
              "      <td>NaN</td>\n",
              "      <td>NaN</td>\n",
              "      <td>3 months duration</td>\n",
              "      <td></td>\n",
              "      <td></td>\n",
              "    </tr>\n",
              "  </tbody>\n",
              "</table>\n",
              "</div>"
            ],
            "text/plain": [
              "                    Title Company Location  Rating  Experience  \\\n",
              "52  Intern - Data Science            Thane     NaN         NaN   \n",
              "\n",
              "               Salary Description Skills  \n",
              "52  3 months duration                     "
            ]
          },
          "execution_count": 156,
          "metadata": {},
          "output_type": "execute_result"
        }
      ],
      "source": [
        "# dropping this row as there are many missing values in this row\n",
        "dsjobs_df[dsjobs_df['Salary']=='3 months duration']"
      ]
    },
    {
      "cell_type": "code",
      "execution_count": null,
      "id": "7e6228c6",
      "metadata": {
        "id": "7e6228c6"
      },
      "outputs": [],
      "source": [
        "# removing all rows where salary is not in amount\n",
        "dsjobs_df = dsjobs_df.drop(dsjobs_df[dsjobs_df['Salary'].isin(['3 months duration','6 months duration','2 months duration','No fixed duration'])].index,axis=0)"
      ]
    },
    {
      "cell_type": "code",
      "execution_count": null,
      "id": "88fee51c",
      "metadata": {
        "id": "88fee51c"
      },
      "outputs": [],
      "source": [
        "dsjobs_df['Salary'] = dsjobs_df['Salary'].apply(convert_salary)"
      ]
    },
    {
      "cell_type": "code",
      "execution_count": null,
      "id": "d408a705",
      "metadata": {
        "id": "d408a705"
      },
      "outputs": [],
      "source": [
        "dsjobs_df = dsjobs_df.rename(columns={'Salary': 'Salary in Lacs'})"
      ]
    },
    {
      "cell_type": "code",
      "execution_count": null,
      "id": "40aebcfa",
      "metadata": {
        "id": "40aebcfa",
        "outputId": "8fc825be-f357-4cc1-9eda-a21017fdf0cd"
      },
      "outputs": [
        {
          "data": {
            "text/plain": [
              "Title              object\n",
              "Company            object\n",
              "Location           object\n",
              "Rating            float64\n",
              "Experience        float64\n",
              "Salary in Lacs    float64\n",
              "Description        object\n",
              "Skills             object\n",
              "dtype: object"
            ]
          },
          "execution_count": 160,
          "metadata": {},
          "output_type": "execute_result"
        }
      ],
      "source": [
        "dsjobs_df.dtypes"
      ]
    },
    {
      "cell_type": "code",
      "execution_count": null,
      "id": "b5f235af",
      "metadata": {
        "id": "b5f235af"
      },
      "outputs": [],
      "source": [
        "dsjobs_df['Rating'] = dsjobs_df['Rating'].fillna(0)"
      ]
    },
    {
      "cell_type": "code",
      "execution_count": null,
      "id": "3ff10528",
      "metadata": {
        "id": "3ff10528"
      },
      "outputs": [],
      "source": [
        "dsjobs_df['Experience'] = dsjobs_df['Experience'].fillna(dsjobs_df['Experience'].mean())"
      ]
    },
    {
      "cell_type": "code",
      "execution_count": null,
      "id": "e1a59c39",
      "metadata": {
        "id": "e1a59c39",
        "outputId": "6cc909ec-e210-4ac6-a60e-eeb43a8de770"
      },
      "outputs": [
        {
          "data": {
            "text/plain": [
              "(193, 8)"
            ]
          },
          "execution_count": 163,
          "metadata": {},
          "output_type": "execute_result"
        }
      ],
      "source": [
        "dsjobs_df.shape"
      ]
    },
    {
      "cell_type": "code",
      "execution_count": null,
      "id": "9f70f9b2",
      "metadata": {
        "id": "9f70f9b2",
        "outputId": "6889ab8d-5483-4e7e-e7ad-c8730229d1a3"
      },
      "outputs": [
        {
          "data": {
            "text/plain": [
              "Title               0\n",
              "Company             0\n",
              "Location            0\n",
              "Rating              0\n",
              "Experience          0\n",
              "Salary in Lacs    171\n",
              "Description         0\n",
              "Skills              0\n",
              "dtype: int64"
            ]
          },
          "execution_count": 164,
          "metadata": {},
          "output_type": "execute_result"
        }
      ],
      "source": [
        "dsjobs_df.isnull().sum()"
      ]
    },
    {
      "cell_type": "markdown",
      "id": "8fdc1290",
      "metadata": {
        "id": "8fdc1290"
      },
      "source": [
        "I have not handled null values in Salary column as there are more than 60% of null values in that column."
      ]
    },
    {
      "cell_type": "markdown",
      "id": "cd30c4c0",
      "metadata": {
        "id": "cd30c4c0"
      },
      "source": [
        "# Data visualization"
      ]
    },
    {
      "cell_type": "markdown",
      "id": "af13450e",
      "metadata": {
        "id": "af13450e"
      },
      "source": [
        "Chart-1"
      ]
    },
    {
      "cell_type": "code",
      "execution_count": null,
      "id": "96bd596a",
      "metadata": {
        "id": "96bd596a",
        "outputId": "ae18bdd8-cefb-4c04-ab24-146897f68f9a"
      },
      "outputs": [
        {
          "data": {
            "image/png": "[encoded data removed]",
            "text/plain": [
              "<Figure size 1500x1000 with 1 Axes>"
            ]
          },
          "metadata": {},
          "output_type": "display_data"
        }
      ],
      "source": [
        "plt.figure(figsize=(15,10))\n",
        "sns.barplot(y=top_jobs.index,x=top_jobs.values,orient='h')\n",
        "plt.xlabel('Count')\n",
        "plt.title('Popular Jobs')\n",
        "plt.show()"
      ]
    },
    {
      "cell_type": "markdown",
      "id": "fe197fe6",
      "metadata": {
        "id": "fe197fe6"
      },
      "source": [
        "From the above barplot we can see that, Data science Manager,Data science professional,Data science Engineer,Data science\n",
        "analyst,Senior Data Scientist, Data Scientist, Data Science Lead and Data Analyst are popular data science jobs."
      ]
    },
    {
      "cell_type": "markdown",
      "id": "94d50429",
      "metadata": {
        "id": "94d50429"
      },
      "source": [
        "Chart-2"
      ]
    },
    {
      "cell_type": "code",
      "execution_count": null,
      "id": "802cfbdf",
      "metadata": {
        "id": "802cfbdf"
      },
      "outputs": [],
      "source": [
        "jobs = dsjobs_df[(dsjobs_df['Title'].isin(Top_jobs)) & pd.notna(dsjobs_df['Salary in Lacs'])]"
      ]
    },
    {
      "cell_type": "code",
      "execution_count": null,
      "id": "21a35477",
      "metadata": {
        "id": "21a35477"
      },
      "outputs": [],
      "source": [
        "jobs_sal = jobs.groupby('Title')['Salary in Lacs'].mean().sort_values(ascending=False)"
      ]
    },
    {
      "cell_type": "code",
      "execution_count": null,
      "id": "7cb14cdd",
      "metadata": {
        "scrolled": true,
        "id": "7cb14cdd",
        "outputId": "f180e738-6590-4e7c-bdec-2c7852d26a6e"
      },
      "outputs": [
        {
          "data": {
            "image/png": "[encoded data removed]",
            "text/plain": [
              "<Figure size 1500x800 with 1 Axes>"
            ]
          },
          "metadata": {},
          "output_type": "display_data"
        }
      ],
      "source": [
        "plt.figure(figsize=(15,8))\n",
        "sns.barplot(x=jobs_sal.index,y=jobs_sal.values)\n",
        "plt.ylabel('Salary in Lacs')\n",
        "plt.title('Top jobs by Salary')\n",
        "plt.show()"
      ]
    },
    {
      "cell_type": "markdown",
      "id": "412fffd3",
      "metadata": {
        "id": "412fffd3"
      },
      "source": [
        "From the above chart we can see that, Data Science Lead, Data Science Analyst, Senior Data Analyst, Senior Data scientist\n",
        "and Data scientist are having highest salaries."
      ]
    },
    {
      "cell_type": "markdown",
      "id": "69a8f3c1",
      "metadata": {
        "id": "69a8f3c1"
      },
      "source": [
        "Chart-3"
      ]
    },
    {
      "cell_type": "code",
      "execution_count": null,
      "id": "853d4a6d",
      "metadata": {
        "id": "853d4a6d"
      },
      "outputs": [],
      "source": [
        "pop_dsjobs = dsjobs_df[dsjobs_df['Title'].isin(Top_jobs)]"
      ]
    },
    {
      "cell_type": "code",
      "execution_count": null,
      "id": "a2051ae1",
      "metadata": {
        "id": "a2051ae1"
      },
      "outputs": [],
      "source": [
        "jobs_exp = pop_dsjobs.groupby('Title')['Experience'].mean().sort_values(ascending=False)"
      ]
    },
    {
      "cell_type": "code",
      "execution_count": null,
      "id": "a0d2a09d",
      "metadata": {
        "id": "a0d2a09d",
        "outputId": "981ddf7e-166b-4964-eb86-058c6b0e6932"
      },
      "outputs": [
        {
          "data": {
            "image/png": "[encoded data removed]",
            "text/plain": [
              "<Figure size 1500x1000 with 1 Axes>"
            ]
          },
          "metadata": {},
          "output_type": "display_data"
        }
      ],
      "source": [
        "plt.figure(figsize=(15,10))\n",
        "sns.barplot(x=jobs_exp.values,y=jobs_exp.index,errorbar=None,orient='h')\n",
        "plt.xlabel('Experience')\n",
        "plt.title('Jobs by Experience')\n",
        "plt.show()"
      ]
    },
    {
      "cell_type": "markdown",
      "id": "f7f2e407",
      "metadata": {
        "id": "f7f2e407"
      },
      "source": [
        "The above horizontal bar chart says that, most of the companies are expecting average of 8yrs of experience for Data science\n",
        "Lead, 6.5yrs for data engineer and senior data scientist, and 4.5yrs of experience for Data analyst and Data scientist."
      ]
    },
    {
      "cell_type": "markdown",
      "id": "473e8208",
      "metadata": {
        "id": "473e8208"
      },
      "source": [
        "Chart-4"
      ]
    },
    {
      "cell_type": "code",
      "execution_count": null,
      "id": "ddcc6741",
      "metadata": {
        "id": "ddcc6741",
        "outputId": "7ff741e7-b736-40cc-a002-c228096c8caa"
      },
      "outputs": [
        {
          "data": {
            "image/png": "[encoded data removed]",
            "text/plain": [
              "<Figure size 640x480 with 1 Axes>"
            ]
          },
          "metadata": {},
          "output_type": "display_data"
        }
      ],
      "source": [
        "sns.scatterplot(data=dsjobs_df,x='Experience',y='Salary in Lacs')\n",
        "plt.title(\"Relationship between Experiece and Salary\")\n",
        "plt.show()"
      ]
    },
    {
      "cell_type": "markdown",
      "id": "3d047884",
      "metadata": {
        "id": "3d047884"
      },
      "source": [
        "From the above scatter plot we can see that, there is a positive correlation between Experience and Salary.This means as\n",
        "Experience increases Salary increases."
      ]
    },
    {
      "cell_type": "markdown",
      "id": "4e6b7daa",
      "metadata": {
        "id": "4e6b7daa"
      },
      "source": [
        "Chart-5"
      ]
    },
    {
      "cell_type": "code",
      "execution_count": null,
      "id": "eb077bf9",
      "metadata": {
        "id": "eb077bf9"
      },
      "outputs": [],
      "source": [
        "locations = dsjobs_df.Location.value_counts().head(10)"
      ]
    },
    {
      "cell_type": "code",
      "execution_count": null,
      "id": "99d40bde",
      "metadata": {
        "id": "99d40bde",
        "outputId": "8fc6a30d-e575-4760-af57-2e3fbd2417d8"
      },
      "outputs": [
        {
          "data": {
            "image/png": "[encoded data removed]",
            "text/plain": [
              "<Figure size 1500x500 with 1 Axes>"
            ]
          },
          "metadata": {},
          "output_type": "display_data"
        }
      ],
      "source": [
        "plt.figure(figsize=(15,5))\n",
        "sns.barplot(x=locations.index,y=locations.values)\n",
        "plt.show()"
      ]
    },
    {
      "cell_type": "markdown",
      "id": "d71ccd32",
      "metadata": {
        "id": "d71ccd32"
      },
      "source": [
        "The above chart shows that, most of the data science jobs are in Bangalore followed by Hyderabad,Pune and Mumbai."
      ]
    },
    {
      "cell_type": "markdown",
      "id": "e8ad7bcf",
      "metadata": {
        "id": "e8ad7bcf"
      },
      "source": [
        "Chart-6"
      ]
    },
    {
      "cell_type": "code",
      "execution_count": null,
      "id": "787b1f8f",
      "metadata": {
        "id": "787b1f8f"
      },
      "outputs": [],
      "source": [
        "top_locations = dsjobs_df[(dsjobs_df['Location'].isin(locations.index)) & pd.notna(dsjobs_df['Salary in Lacs'])]\n"
      ]
    },
    {
      "cell_type": "code",
      "execution_count": null,
      "id": "a056a553",
      "metadata": {
        "id": "a056a553",
        "outputId": "b31e1d0c-0472-4a51-d9f6-9a82832a1806"
      },
      "outputs": [
        {
          "data": {
            "image/png": "[encoded data removed]",
            "text/plain": [
              "<Figure size 1500x500 with 1 Axes>"
            ]
          },
          "metadata": {},
          "output_type": "display_data"
        }
      ],
      "source": [
        "plt.figure(figsize=(15,5))\n",
        "sns.barplot(data=top_locations,x='Location',y='Salary in Lacs')\n",
        "plt.title('Salary by Location')\n",
        "plt.show()"
      ]
    },
    {
      "cell_type": "markdown",
      "id": "68833181",
      "metadata": {
        "id": "68833181"
      },
      "source": [
        "The above chart shows that, highest salaries are paid in Mumbai followed by Chennai,Bangalore ad Hyderabad."
      ]
    },
    {
      "cell_type": "markdown",
      "id": "f9a7a0a3",
      "metadata": {
        "id": "f9a7a0a3"
      },
      "source": [
        "Chart-7"
      ]
    },
    {
      "cell_type": "code",
      "execution_count": null,
      "id": "7d851e3f",
      "metadata": {
        "id": "7d851e3f"
      },
      "outputs": [],
      "source": [
        "locations_exp = dsjobs_df[dsjobs_df['Location'].isin(locations.index)]"
      ]
    },
    {
      "cell_type": "code",
      "execution_count": null,
      "id": "d131b2de",
      "metadata": {
        "id": "d131b2de",
        "outputId": "418277c0-db13-40ee-a306-fcd7afa8c5cb"
      },
      "outputs": [
        {
          "data": {
            "image/png": "[encoded data removed]",
            "text/plain": [
              "<Figure size 1500x500 with 1 Axes>"
            ]
          },
          "metadata": {},
          "output_type": "display_data"
        }
      ],
      "source": [
        "plt.figure(figsize=(15,5))\n",
        "sns.boxplot(data=locations_exp,x='Location',y='Experience')\n",
        "plt.title(\"Experience by Location\")\n",
        "plt.show()"
      ]
    },
    {
      "cell_type": "markdown",
      "id": "b2c5a437",
      "metadata": {
        "id": "b2c5a437"
      },
      "source": [
        "From the above boxplot we can see that, Experiences are in between 5-10yrs. In Hyderabad experiences are asked in between\n",
        "5-10yrs, in Mumbai 3-10yrs and in Bangalore 5-8yrs."
      ]
    },
    {
      "cell_type": "markdown",
      "id": "f29b803a",
      "metadata": {
        "id": "f29b803a"
      },
      "source": [
        "Chart-8"
      ]
    },
    {
      "cell_type": "code",
      "execution_count": null,
      "id": "a39eb300",
      "metadata": {
        "scrolled": true,
        "id": "a39eb300",
        "outputId": "56d5f146-94f9-4558-e8e4-650dcd19ee19"
      },
      "outputs": [
        {
          "data": {
            "text/plain": [
              "Company\n",
              "Targeticon Digital Services Pvt. Ltd.    5.0\n",
              "Meru Capitals                            5.0\n",
              "Prime Search                             5.0\n",
              "Super Scholar                            5.0\n",
              "Micron Software                          5.0\n",
              "                                        ... \n",
              "Blend360 India                           2.9\n",
              "Themathcompany                           2.7\n",
              "Consilium Software                       2.5\n",
              "QiO                                      1.0\n",
              "                                         0.0\n",
              "Name: Rating, Length: 113, dtype: float64"
            ]
          },
          "execution_count": 203,
          "metadata": {},
          "output_type": "execute_result"
        }
      ],
      "source": [
        "# Ratings by company\n",
        "dsjobs_df.groupby('Company')['Rating'].mean().sort_values(ascending=False)"
      ]
    },
    {
      "cell_type": "markdown",
      "id": "7ecb1146",
      "metadata": {
        "id": "7ecb1146"
      },
      "source": [
        "Chart-9"
      ]
    },
    {
      "cell_type": "code",
      "execution_count": null,
      "id": "7e43a38c",
      "metadata": {
        "id": "7e43a38c",
        "outputId": "f31b2044-ab4b-4d2d-a3e7-011829a38b0b"
      },
      "outputs": [
        {
          "data": {
            "text/html": [
              "<div>\n",
              "<style scoped>\n",
              "    .dataframe tbody tr th:only-of-type {\n",
              "        vertical-align: middle;\n",
              "    }\n",
              "\n",
              "    .dataframe tbody tr th {\n",
              "        vertical-align: top;\n",
              "    }\n",
              "\n",
              "    .dataframe thead th {\n",
              "        text-align: right;\n",
              "    }\n",
              "</style>\n",
              "<table border=\"1\" class=\"dataframe\">\n",
              "  <thead>\n",
              "    <tr style=\"text-align: right;\">\n",
              "      <th></th>\n",
              "      <th>Title</th>\n",
              "      <th>Skills</th>\n",
              "    </tr>\n",
              "  </thead>\n",
              "  <tbody>\n",
              "    <tr>\n",
              "      <th>1</th>\n",
              "      <td>Data Science Engineer</td>\n",
              "      <td>Algorithms, Data Structures, Artificial Intell...</td>\n",
              "    </tr>\n",
              "    <tr>\n",
              "      <th>54</th>\n",
              "      <td>Data Science Lead</td>\n",
              "      <td>Natural Language Processing, Data Science, Tim...</td>\n",
              "    </tr>\n",
              "    <tr>\n",
              "      <th>60</th>\n",
              "      <td>Data Science Trainer</td>\n",
              "      <td>Data Science, Matplotlib, Data Engineering, Ar...</td>\n",
              "    </tr>\n",
              "    <tr>\n",
              "      <th>75</th>\n",
              "      <td>Data Science Analyst</td>\n",
              "      <td>python, Data Science, Predictive Modeling, Sof...</td>\n",
              "    </tr>\n",
              "    <tr>\n",
              "      <th>167</th>\n",
              "      <td>Data Scientist</td>\n",
              "      <td>Data Analytics, Data Science, Predictive Analy...</td>\n",
              "    </tr>\n",
              "    <tr>\n",
              "      <th>173</th>\n",
              "      <td>Data Science Trainer</td>\n",
              "      <td>Machine Learning, Deep Learning, SQL, R, Pytho...</td>\n",
              "    </tr>\n",
              "    <tr>\n",
              "      <th>174</th>\n",
              "      <td>Data Scientist</td>\n",
              "      <td>Data Science, python, Data Analytics, Machine ...</td>\n",
              "    </tr>\n",
              "    <tr>\n",
              "      <th>178</th>\n",
              "      <td>Data Scientist</td>\n",
              "      <td>Data Science, Machine Learning, Python, Scienc...</td>\n",
              "    </tr>\n",
              "    <tr>\n",
              "      <th>182</th>\n",
              "      <td>Senior Data Analyst</td>\n",
              "      <td>Tableau, ETL Tool, SQL, data analytics, Shell ...</td>\n",
              "    </tr>\n",
              "    <tr>\n",
              "      <th>194</th>\n",
              "      <td>Data Scientist</td>\n",
              "      <td>Data Analytics, Data Science, Predictive Analy...</td>\n",
              "    </tr>\n",
              "    <tr>\n",
              "      <th>199</th>\n",
              "      <td>Senior Data Scientist</td>\n",
              "      <td>Big Data Technologies, Machine Learning, Pytho...</td>\n",
              "    </tr>\n",
              "  </tbody>\n",
              "</table>\n",
              "</div>"
            ],
            "text/plain": [
              "                     Title                                             Skills\n",
              "1    Data Science Engineer  Algorithms, Data Structures, Artificial Intell...\n",
              "54       Data Science Lead  Natural Language Processing, Data Science, Tim...\n",
              "60    Data Science Trainer  Data Science, Matplotlib, Data Engineering, Ar...\n",
              "75    Data Science Analyst  python, Data Science, Predictive Modeling, Sof...\n",
              "167         Data Scientist  Data Analytics, Data Science, Predictive Analy...\n",
              "173   Data Science Trainer  Machine Learning, Deep Learning, SQL, R, Pytho...\n",
              "174         Data Scientist  Data Science, python, Data Analytics, Machine ...\n",
              "178         Data Scientist  Data Science, Machine Learning, Python, Scienc...\n",
              "182    Senior Data Analyst  Tableau, ETL Tool, SQL, data analytics, Shell ...\n",
              "194         Data Scientist  Data Analytics, Data Science, Predictive Analy...\n",
              "199  Senior Data Scientist  Big Data Technologies, Machine Learning, Pytho..."
            ]
          },
          "execution_count": 199,
          "metadata": {},
          "output_type": "execute_result"
        }
      ],
      "source": [
        "#Skills by job\n",
        "jobs[['Title','Skills']]"
      ]
    },
    {
      "cell_type": "code",
      "execution_count": null,
      "id": "0040bdc2",
      "metadata": {
        "id": "0040bdc2",
        "outputId": "06ac90d4-e634-4de4-d51e-c06e8fa0508f"
      },
      "outputs": [
        {
          "data": {
            "text/plain": [
              "41     Data Science, Artificial Intelligence, Machine...\n",
              "54     Natural Language Processing, Data Science, Tim...\n",
              "85     Machine Learning, Deep Learning, Data Science,...\n",
              "134    IT services, data science, Web application, Ma...\n",
              "138    Water treatment, C++, data science, Analytical...\n",
              "Name: Skills, dtype: object"
            ]
          },
          "execution_count": 206,
          "metadata": {},
          "output_type": "execute_result"
        }
      ],
      "source": [
        "dsjobs_df[dsjobs_df['Title']=='Data Science Lead']['Skills']"
      ]
    },
    {
      "cell_type": "code",
      "execution_count": null,
      "id": "d53be73d",
      "metadata": {
        "id": "d53be73d",
        "outputId": "663b0165-d3a5-40c3-d8e1-a6fe8dfce3b6"
      },
      "outputs": [
        {
          "data": {
            "text/plain": [
              "1      Algorithms, Data Structures, Artificial Intell...\n",
              "16     llms, RDBMS, aws, Python, cloud, Large Languag...\n",
              "87     NoSQL, Manager Quality Assurance, GCP, Machine...\n",
              "112    Data Science, Machine Learning, Python, Artifi...\n",
              "117    Supply chain management, Networking, data scie...\n",
              "119    data science, Data modeling, Artificial Intell...\n",
              "169    Data Science, langchain, plotly, Python, Data,...\n",
              "Name: Skills, dtype: object"
            ]
          },
          "execution_count": 207,
          "metadata": {},
          "output_type": "execute_result"
        }
      ],
      "source": [
        "dsjobs_df[dsjobs_df['Title']=='Data Science Engineer']['Skills']"
      ]
    },
    {
      "cell_type": "code",
      "execution_count": null,
      "id": "c61bffc3",
      "metadata": {
        "id": "c61bffc3",
        "outputId": "a18f5124-4faa-4e1b-97b6-794322850c56"
      },
      "outputs": [
        {
          "data": {
            "text/plain": [
              "155    data science, Focus, Consulting, IT infrastruc...\n",
              "156    data science, Focus, Consulting, IT infrastruc...\n",
              "189    Decision Tree, Regression, Data Analytics, Ran...\n",
              "Name: Skills, dtype: object"
            ]
          },
          "execution_count": 208,
          "metadata": {},
          "output_type": "execute_result"
        }
      ],
      "source": [
        "dsjobs_df[dsjobs_df['Title']=='Data Analyst']['Skills']"
      ]
    },
    {
      "cell_type": "markdown",
      "id": "6c9bec3c",
      "metadata": {
        "id": "6c9bec3c"
      },
      "source": [
        "# Conclusion"
      ]
    },
    {
      "cell_type": "markdown",
      "id": "f91026fa",
      "metadata": {
        "id": "f91026fa"
      },
      "source": [
        " 1. Data science Manager,Data science professional,Data science Engineer,Data science analyst,Senior Data Scientist,\n",
        "    Data Scientist, Data Science Lead and Data Analyst are popular data science jobs.\n",
        "    \n",
        " 2. Data Science Lead is given highest salary of 30 LPA, followed by Data science Analyst with 22 LPA. Senior Data Analyst has\n",
        "    salary of 20 LPA,Senior Data Scientist has salary of 15 LPA and Data Scientist has 10 LPA.\n",
        "    \n",
        " 3. Most of the companies are expecting average of 8yrs of experience for Data science Lead,6.5yrs for data engineer and\n",
        "    Senior Data Scientist, and 4.5yrs of experience for Data analyst and Data scientist.\n",
        "    \n",
        " 4. As the Experience increases Salary increases.\n",
        "\n",
        " 5. Most of the data science jobs are in Bangalore followed by Hyderabad,Pune and Mumbai.\n",
        "\n",
        " 6. Mumbai has highest salaries followed by Hyderabad,Chennai and Bangalore.\n",
        "\n",
        " 7. Skills required for Data Scientist are Data science, python, Machine learning, Data analytics and predictive analysis.\n",
        "\n",
        " 8. Skills reqired for Senior Data Analyst are Tableau, ETL Tool, SQL, data analytics, Shell Programming.\n",
        "\n",
        " 9. Skills required for Senior Data Scientist are Big Data Technologies,Machine Learning, Python, Data Science, MySQL, Big         Data.\n",
        "\n",
        " 10. Skills required for Data Engineer are Algorithms, Data structures, Artificial intelligence, llms, RDBMS, Python, Cloud.\n",
        "\n",
        " 11. Skills required for Data Science Lead are Natural Language Processing, Data Science,Machine Learning and Deep Learning.\n",
        "\n",
        " 12. Skills required for Data Analyst are Data Science, Data Analytics."
      ]
    }
  ],
  "metadata": {
    "kernelspec": {
      "display_name": "Python 3 (ipykernel)",
      "language": "python",
      "name": "python3"
    },
    "language_info": {
      "codemirror_mode": {
        "name": "ipython",
        "version": 3
      },
      "file_extension": ".py",
      "mimetype": "text/x-python",
      "name": "python",
      "nbconvert_exporter": "python",
      "pygments_lexer": "ipython3",
      "version": "3.11.5"
    },
    "colab": {
      "provenance": [],
      "include_colab_link": true
    }
  },
  "nbformat": 4,
  "nbformat_minor": 5
}